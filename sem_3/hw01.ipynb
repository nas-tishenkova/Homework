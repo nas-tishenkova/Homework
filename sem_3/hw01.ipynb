{
 "cells": [
  {
   "cell_type": "markdown",
   "id": "a9659578-1834-43b9-bb27-0cb3b6a9bb32",
   "metadata": {},
   "source": [
    "#### Задача 1. \n",
    "\n",
    "Напишем игру \"ферма\". Наш игрок - экземпляр класса \"фермер\", у которого есть имя, стартовая сумма денег и объект класса \"ферма\". У объекта класса \"ферма\" есть жилплощадь (для самого фермера), а также могут быть поле для картошки, например (с площадью), огород под огурцы, постройки для домашних животных (с вместимостью). Наш фермер может покупать семена и животных, собирать урожай и взаимодействовать с животными (коров можно доить, свиней можно зарезать и продать мясо). Игра консольная, поэтому придется выводить нужную информацию через запросы игрока (игрок может захотеть знать, сколько у него есть животных, какие у него есть огороды-поля и так далее). \n",
    "\n",
    "Опять же, фантазия приветствуется. :)"
   ]
  },
  {
   "cell_type": "markdown",
   "id": "6fdbca8b",
   "metadata": {},
   "source": [
    "    ферма:\n",
    "    в одной постройке помещается 1 очень крупное животное (дракон) / 4 крупных (типа коров или лошадей) / 8 средних (овцы, свиньи) /  12 маленьких (курицы, кролики, индейки)\n",
    "\n",
    "\n",
    "    1. каждый день нужно кормить животных - иначе они могут умереть (дракон дорогое удовольствие, ему нужно 100 мешков еды (иначе повысится вероятность сожжения и съедения скота или даже фермера... маленьким животным нужен 1 мешок, средним 3 мешка, крупным 10 мешков))\n",
    "    2. в день можно сделать ограниченное кол-во действий\n",
    "    в начале каждого дня приходят уведомления о том, что произошло за ночь\n",
    "\n",
    "    животные:\n",
    "    курицы - с них можно брать яйца (выпадает от 0 до 2 в день) их можно продавать на рынке (курица стоит 100 золотых)\n",
    "    дракон - плюсы: на нем можно кататься, пугать соседей; минусы: может сжечь стадо овец (стоит 100 000 золотых)\n",
    "    овцы - с них можно стричь шерсть и продавать на городском рынке овца стоит (1000 золотых)\n",
    "    корова - можно доить молоко\n",
    "    свиньи - фермер может их kill и продавать мясо, но фермеру может стать их жалко и резать он никого не станет (свинья стоит 2000 золотых) - 1 час сбора и весь остальной день моральное восстановление, если фермер убьет свинью, то весь день будет подавлен и ничего не будет делать\n",
    "    один мешок еды стоит 1 золотых - не очень хочется, чтобыживотные умирали\n",
    "\n",
    "    овощи/фрукты: напомню! - дроп раз в три дня, допустим для всем фруктовощей\n",
    "    на одной клетке помещается + стоимость семян (1 пакет семян на 1 клетку):\n",
    "    картошка - 20 items - 5 золотых\n",
    "    помидоры - 30 items - 10 золотых\n",
    "    манго - 1 item - 100 золотых\n",
    "    ирга (дерево, получается) - 10 пластиковых стаканчиков по 300 г. - 30 золотых\n",
    "    яблоки (тоже дерево) - 15 шт - 15 золотых\n",
    "\n",
    "    продажа товаров на рынке всегда непредсказуема, выручка может быть разной, но всегда в одном диапазоне\n"
   ]
  },
  {
   "cell_type": "code",
   "execution_count": 795,
   "id": "a8a0aa7b-99f9-4e92-879e-570d9e21a98b",
   "metadata": {},
   "outputs": [
    {
     "name": "stdout",
     "output_type": "stream",
     "text": [
      "имя: Гришка\n",
      "деняк: 1000000 золотых\n",
      "уровень: 0\n",
      "поздравляем! вы купили первый сарай! вы можете поселить в него первого животного.\n",
      "в вашем кошельке сейчас 999000 золотых\n"
     ]
    }
   ],
   "source": [
    "from random import randint\n",
    "\n",
    "class Dragon:\n",
    "    def __init__(self, name, relationships = 0):\n",
    "        self.name = name\n",
    "        self.relationships = relationships\n",
    "\n",
    "class Farm:\n",
    "    def __init__(self, living_area = 0, barn = [], animal_food = 0, wool = 0, milk = 0, eggs = 0, pork = 0, planting_area = 20, day = 1, number_of_dragons = 0, feeded_animals = 0):\n",
    "        self.day = day\n",
    "        self.living_area = living_area \n",
    "        self.tomatoes = [10, 0, 0] #[сколько клеток есть, сколько можно собрать дропа с грядок, сколько есть в инвентаре]\n",
    "        self.potatoes = [10, 0, 0] \n",
    "        self.mangoes = [10, 0, 0]\n",
    "        self.irga = [10, 0, 0]\n",
    "        self.apples = [10, 0, 0]\n",
    "        self.dragon = Dragon(self)\n",
    "        self.hungry = 0\n",
    "        self.number_of_dragons = number_of_dragons\n",
    "        self.feeded_animals = feeded_animals\n",
    "        self.plants = {'картошка': [5, self.potatoes], 'помидоры': [10, self.tomatoes], 'ирга': [30, self.irga], 'манго': [100, self.mangoes], 'яблоки': [15, self.apples]}\n",
    "        self.planting_area = planting_area\n",
    "        self.barn = barn # [id, 3 animals - сколько сейчас животных, 4 animals - вместимость (определяется по размеру первого попавшего в сарай? животного), размер животного, которое может сюда попасть]#стоит 1000 золотых\n",
    "        self.animal_food = animal_food #сколько мешков еды есть в наличии\n",
    "        self.wool = wool #тут везде количество единиц\n",
    "        self.milk = milk #стоит 1 золотую монету\n",
    "        self.eggs = eggs #десяток стоит 2 золотых \n",
    "        self.pork = pork #стоит 5 золотых и здоровой психики фермеру\n",
    "        self.animals = {'курица': [1, 100, 0, 1], 'корова': [3, 3000, 0, 10],'лошадь': [3, 10000, 0, 10], 'овца': [2, 1000, 0, 3], 'свинья': [2, 2000, 0, 3]}\n",
    "    def show_farm(self):\n",
    "        print(f'у вас пока ничего нет')\n",
    "\n",
    "class Farmer:\n",
    "    def __init__(self, name, activities = 0, money = 1000000, skill = 0):\n",
    "        self.activities = activities\n",
    "        self.name = name\n",
    "        self.money = money\n",
    "        self.skill = skill\n",
    "        self.farm = Farm(self)\n",
    "\n",
    "\n",
    "    def lets_meet(self):\n",
    "        self.name = input(f'назовите героя перед началом игры')\n",
    "\n",
    "        \n",
    "    def show_farmer(self):\n",
    "        print(f'имя: {self.name}\\nденяк: {self.money} золотых\\nуровень: {self.skill}')\n",
    "\n",
    "\n",
    "    def buy_a_barn(self):\n",
    "        if self.money >= 1000:\n",
    "            if self.farm.barn == []:\n",
    "                self.farm.barn.append([1, 0, 0, 0])\n",
    "                self.money -= 1000\n",
    "                print(f'поздравляем! вы купили первый сарай! вы можете поселить в него первого животного.\\nв вашем кошельке сейчас {self.money} золотых')\n",
    "            else:\n",
    "                self.farm.barn.append([self.farm.barn[-1][0] + 1, 0, 0, 0])\n",
    "                self.money -= 1000\n",
    "                print(f'вы купили сарай! ваш кошелек опустел, и сейчас в нём {self.money} золотых')\n",
    "        else:\n",
    "            print(f'вам не хватает на сарай для животных, продайте что-нибудь!')\n",
    "\n",
    "\n",
    "    def buy_an_animal(self):#покупаем животное и размещаем его в сарае\n",
    "        animal = input('выберите животное для покупки (курица, овца, свинья, лошадь, корова, дракон)')\n",
    "        if animal in self.farm.animals:\n",
    "            if self.money >= self.farm.animals[animal][1]:#смотрим, хватит ли деняк на животное\n",
    "            #итерируемся по сараям\n",
    "                for barn in self.farm.barn: \n",
    "                    if barn[1] == 0: #если у нас в сарае еще нет животных\n",
    "                        barn[1] = 1#добавили животное\n",
    "                        if self.farm.animals[animal][0] == 1:\n",
    "                            barn[2] = 11#добавили вместимость\n",
    "                            self.farm.animals[animal][2] +=1#добавили в список животных животное\n",
    "                            barn[3] = self.farm.animals[animal][0]#добавляем размер\n",
    "                            self.money -= self.farm.animals[animal][1]\n",
    "                            print(f'вы поселили первое животное в сарай! в вашем сарае сейчас 1 животное, вы можете поселить в него еще {barn[2]} таких же животных')\n",
    "                            break\n",
    "                        elif self.farm.animals[animal][0] == 2:\n",
    "                            barn[2] = 7\n",
    "                            self.farm.animals[animal][2] +=1\n",
    "                            barn[3] = self.farm.animals[animal][0]\n",
    "                            self.money -= self.farm.animals[animal][1]\n",
    "                            print(f'вы поселили первое животное в сарай! в вашем сарае сейчас 1 животное, вы можете поселить в него еще {barn[2]} таких же животных')\n",
    "                            break\n",
    "                        elif self.farm.animals[animal][0] == 3:\n",
    "                            barn[2] = 3\n",
    "                            self.farm.animals[animal][2] +=1\n",
    "                            barn[3] = self.farm.animals[animal][0]\n",
    "                            self.money -= self.farm.animals[animal][1]\n",
    "                            print(f'вы поселили первое животное в сарай! в вашем сарае сейчас 1 животное, вы можете поселить в него еще {barn[2]} таких же животных')\n",
    "                            break\n",
    "    \n",
    "                    elif barn[1] > 0:#если в сарае есть животные\n",
    "                        full = len(self.farm.barn)\n",
    "                        if barn[2] == 0:\n",
    "                            full -= 1 \n",
    "                        if barn[2] > 0:#проверяем есть ли место в сарае\n",
    "                            if barn[3] == self.farm.animals[animal][0]:#проверяем сарай на размеры животных\n",
    "                                barn[1] += 1#добавили животное\n",
    "                                barn[2] -= 1#убрали вместимость\n",
    "                                self.show_barns()\n",
    "                                break\n",
    "                        if full == 0:\n",
    "                            print(f'в сараях нет места, купите сарай')\n",
    "                            \n",
    "            else:\n",
    "                print(f'у вас недостаточно золотых для покупки этого животного(((, оно стоит {self.farm.animals[animal][1]} деняк, а у фермера есть только {self.money}')            \n",
    "        if animal == 'дракон':\n",
    "            if self.farm.number_of_dragons == 0:\n",
    "                if self.money >= 100000:\n",
    "                    for barn in self.farm.barn: \n",
    "                        if barn[1] == 0:\n",
    "                            barn[1] = [1, 0, 4]\n",
    "                            self.money -= 100000\n",
    "                            self.farm.dragon = input('дайте дракону имя')\n",
    "                            self.farm.number_of_dragons = 1\n",
    "                            print(f'вы поселили в ваш сарай дракона по имени {self.farm.dragon}, вряд ли кто-то еще туда вместится и вообще согласится с ним соседствовать!\\n будем надеяться, что он не сожжет свой уютный деревянный сарайчик,\\n будьте аккуратны и вовремя кормите его, вы же не хотите узнать, что будет, если этого не делать))))')\n",
    "                            break\n",
    "                else:\n",
    "                    print(f'накопите еще {100000 - self.money} деняк')\n",
    "            else:\n",
    "                print(f'хватит вам и одного дракона')\n",
    "\n",
    "\n",
    "    def show_barns(self):\n",
    "        for i in range(len(self.farm.barn)):\n",
    "            print(f\"{self.farm.barn[i][0]}-й сарай\\nживотных в сарае:\\t{self.farm.barn[i][1]}\\nвместимость:\\t\\tещё {self.farm.barn[i][2]} животных ({self.farm.barn[i][3]}-го размера)\")\n",
    "    \n",
    "    \n",
    "    def show_barn(self):\n",
    "        id  = f'{input(\"какой сарай вам показать\")}'\n",
    "        if self.farm.barn[int(id) - 1][1] == 0:\n",
    "            print(f\"{self.farm.barn[int(id) - 1][0]}-й сарай\\nживотных в сарае:\\t{self.farm.barn[int(id) - 1][1]}\\nвместимость вычисляется только после первого попавшего животного\\nразмер животых в сарае тоже вычисляется только после первого попавшего животного\")\n",
    "        else:\n",
    "            print(f\"{self.farm.barn[int(id) - 1][0]}-й сарай\\nживотных в сарае:\\t{self.farm.barn[int(id) - 1][1]}\\nвместимость:\\t\\tещё {self.farm.barn[int(id) - 1][2]} животных ({self.farm.barn[int(id) - 1][3]}-го размера)\")\n",
    "    \n",
    "    \n",
    "    def show_animals(self):\n",
    "        print(f'{self.farm.animals}')\n",
    "    \n",
    "\n",
    "    def plant(self):\n",
    "        if self.activities < 3:\n",
    "            while True:\n",
    "                item = input('что вы хотите посадить? вы можете посадить: картошка, помидоры, ирга, манго, яблоки')\n",
    "                if item in self.farm.plants:\n",
    "                    if self.farm.plants[item][0] < self.money:\n",
    "                        if self.farm.planting_area > 0:\n",
    "                            self.farm.planting_area -= 1\n",
    "                            self.farm.plants[item][1][0]+=1\n",
    "                            print(f'вы заполнили еще одну грядку! если хотите закончить, напишите \"закончить\"')\n",
    "                            self.activities += 0.4\n",
    "                        else:\n",
    "                            print(f'нет грядок, купите грядки, грядки нужны, чтобы сажать овощи и фрукты, а если нет грядок, то некуда сажать овоощи и фрукты')\n",
    "                            break\n",
    "                    else:\n",
    "                        print(f'денег нет(')\n",
    "                        break\n",
    "                elif item == 'закончить':\n",
    "                    break\n",
    "        else:\n",
    "            print(f'фермер устал и хочет спать, не издевайтесь над ним и начните новый день')\n",
    "\n",
    "\n",
    "    def show_garden(self):\n",
    "        print(f'{self.farm.planting_area}\\n{self.farm.plants}\\n{self.farm.mangoes}')\n",
    "\n",
    "\n",
    "    def buy_seedbed(self, number):\n",
    "        if self.money >= 10*number:\n",
    "            self.money -= 10*number\n",
    "            self.farm.planting_area +=number\n",
    "            print(f'вы купили грядки, можете сажать новые фруктовощи!')\n",
    "        else:\n",
    "            print(f'у вас нет деняк')\n",
    "\n",
    "\n",
    "    def go_to_market(self):\n",
    "        print(f'ваш бюджет {self.money} золотых\\nвы можете продать:{self.farm.mangoes[2]} манго\\n\\t\\t{self.farm.apples[2]} яблок\\n\\t\\t{self.farm.irga[2]} стаканчиков ирги\\n\\t\\t{self.farm.potatoes[2]} картошки\\n\\t\\t{self.farm.tomatoes[2]} помидоров\\n\\t\\t{self.farm.eggs} яиц\\n\\t\\t{self.farm.milk} бутылок молока\\n\\t\\t{self.farm.pork} туш свинины')\n",
    "        while True:\n",
    "            sell = input('что вы хотите продать?')\n",
    "            if sell in self.farm.plants:\n",
    "                if self.farm.plants[sell][1][2] > 0:\n",
    "                    number = input('сколько вы хотите продать?')\n",
    "                    if int(number) <= self.farm.plants[sell][1][2]:\n",
    "                        earn = randint(5,10) * self.farm.plants[sell][0] * int(number) \n",
    "                        print(f'вы заработали {earn} золотых\\nесли вы закончили торговлю, напишите \"домой\"')                        \n",
    "                        self.money += earn\n",
    "                        self.farm.plants[sell][1][2] -= int(number)\n",
    "                        print(f'ваш бюджет {self.money} золотых\\nвы можете продать:{self.farm.mangoes[2]} манго\\n\\t\\t{self.farm.apples[2]} яблок\\n\\t\\t{self.farm.irga[2]} стаканчиков ирги\\n\\t\\t{self.farm.potatoes[2]} картошки\\n\\t\\t{self.farm.tomatoes[2]} помидоров\\n\\t\\t{self.farm.eggs} яиц\\n\\t\\t{self.farm.milk} бутылок молока\\n\\t\\t{self.farm.pork} туш свинины')\n",
    "                    else:\n",
    "                        print(f'у вас столько нет')\n",
    "            elif sell == 'яйца':\n",
    "                if self.farm.eggs > 0:\n",
    "                    number = input('сколько вы хотите продать?')\n",
    "                    if int(number) <= self.farm.eggs:\n",
    "                        earn = randint(5, 10) * int(number) \n",
    "                        print(f'вы заработали {earn} золотых\\nесли вы закончили торговлю, напишите \"домой\"')\n",
    "                        self.money += earn\n",
    "                        self.farm.eggs -= int(number)\n",
    "                        print(f'ваш бюджет {self.money} золотых\\nвы можете продать:{self.farm.mangoes[2]} манго\\n\\t\\t{self.farm.apples[2]} яблок\\n\\t\\t{self.farm.irga[2]} стаканчиков ирги\\n\\t\\t{self.farm.potatoes[2]} картошки\\n\\t\\t{self.farm.tomatoes[2]} помидоров\\n\\t\\t{self.farm.eggs} яиц\\n\\t\\t{self.farm.milk} бутылок молока\\n\\t\\t{self.farm.pork} туш свинины')\n",
    "            elif sell == 'молоко':\n",
    "                if self.farm.milk > 0:\n",
    "                    number = input('сколько вы хотите продать?')\n",
    "                    if int(number) <= self.farm.milk:\n",
    "                        earn = randint(10, 15) * int(number)\n",
    "                        print(f'вы заработали {earn} золотых\\nесли вы закончили торговлю, напишите \"домой\"') \n",
    "                        self.money += earn\n",
    "                        self.farm.milk -= int(number)\n",
    "                        print(f'ваш бюджет {self.money} золотых\\nвы можете продать:{self.farm.mangoes[2]} манго\\n\\t\\t{self.farm.apples[2]} яблок\\n\\t\\t{self.farm.irga[2]} стаканчиков ирги\\n\\t\\t{self.farm.potatoes[2]} картошки\\n\\t\\t{self.farm.tomatoes[2]} помидоров\\n\\t\\t{self.farm.eggs} яиц\\n\\t\\t{self.farm.milk} бутылок молока\\n\\t\\t{self.farm.pork} туш свинины')\n",
    "            elif sell == 'свинина':\n",
    "                if self.farm.pork > 0:\n",
    "                    number = input('сколько вы хотите продать?')\n",
    "                    if int(number) <= self.farm.pork:\n",
    "                        earn = 4000 * int(number) \n",
    "                        self.money += earn\n",
    "                        self.farm.pork -= int(number)\n",
    "                        print(f'вы заработали {earn} золотых\\nесли вы закончили торговлю, напишите \"домой\"')\n",
    "                        print(f'ваш бюджет {self.money} золотых\\nвы можете продать:{self.farm.mangoes[2]} манго\\n\\t\\t{self.farm.apples[2]} яблок\\n\\t\\t{self.farm.irga[2]} стаканчиков ирги\\n\\t\\t{self.farm.potatoes[2]} картошки\\n\\t\\t{self.farm.tomatoes[2]} помидоров\\n\\t\\t{self.farm.eggs} яиц\\n\\t\\t{self.farm.milk} бутылок молока\\n\\t\\t{self.farm.pork} туш свинины')\n",
    "            elif sell == 'домой':\n",
    "                break\n",
    "            elif sell not in self.farm.plants and sell !='яйца' and sell != 'молоко' and sell != 'свинина':\n",
    "                print(f'таким вы не торгуете...(вы можете продать: картошка, помидоры, ирга, манго, свинина, яйца, молоко, яблоки)\\nесли вы закончили торговлю, напишите \"домой\"')\n",
    "            self.activities +=1\n",
    "\n",
    "\n",
    "    def kill(self):\n",
    "        if self.farm.animals['свинья'][2] > 0:\n",
    "            print(f'фермер решил убить свинью, но он никому об этом не расскажет, это решение далось ему нелегко\\nу фермера началась депрессия\\nон заперся дома и до завтрашнего дня он не выйдет из дома')\n",
    "            self.farm.animals['свинья'][2] -=1\n",
    "            self.farm.pork +=1 #))))\n",
    "            self.start_day()\n",
    "        else:\n",
    "            print(f'у фермера нет свиней')\n",
    "\n",
    "\n",
    "    def number_of_animals(self):\n",
    "        number = 0\n",
    "        for item in self.farm.animals:\n",
    "            number += self.farm.animals[item][2]\n",
    "        return number\n",
    "    \n",
    "\n",
    "    def needed_bags(self):\n",
    "        bags = 0\n",
    "        for item in self.farm.animals:\n",
    "            bags += self.farm.animals[item][3] * self.farm.animals[item][2]\n",
    "            return bags\n",
    "        \n",
    "\n",
    "    def feed_animals(self):\n",
    "        if self.needed_bags() < self.farm.animal_food:\n",
    "            print(f'вы накормили всех своих животных, плюсик вам в карму!')\n",
    "            self.farm.feeded_animals = 1\n",
    "        else:\n",
    "            print(f'вы чего-то не подрасчитали.....\\nвам не хватает еды для всех животных, советуем вам купить зерна..\\nведь, если вы не покормите своих животных, кто знает что с ними может случиться....')\n",
    "    \n",
    "\n",
    "    def buy_animal_food(self):#можно делать сколько угодно раз в день\n",
    "        number = input('сколько мешков еды вы хотите? (стоимость одного - 1 монета)')\n",
    "        if self.money >= int(number):\n",
    "            self.money -= int(number)\n",
    "            self.farm.animal_food += int(number)\n",
    "        else:\n",
    "            print(f'вам не хватает денег на еду для животных.. похоже, вы не очень ответственный человек, лучше бы прикупить мешков с едой')\n",
    "\n",
    "    def __del__(self):\n",
    "        #я так понимаю, тут не получилось\n",
    "        print(f'начните игру заново')\n",
    "\n",
    "    def start_day(self):\n",
    "        print(f'новый день - новый дроп!\\nиз новостей:')\n",
    "        if self.number_of_animals() > 0:\n",
    "            if self.farm.feeded_animals == 0:\n",
    "                print(f'вчера вы не покормили часть животных.. \\nчасть ваших животных умерла с голоду. а именно:')\n",
    "                for item in self.farm.animals:\n",
    "                    if self.farm.animals[item][2] >= 1:\n",
    "                        self.farm.animals[item][2] -= 1\n",
    "                        print(f'\\t\\t\\t1 {item}')\n",
    "            print(f'животные тоже проснулись и хотят есть!')\n",
    "        if self.farm.number_of_dragons == 1:\n",
    "            if self.farm.hungry == 0:\n",
    "                for item in self.farm.animals:\n",
    "                    if self.number_of_animals() > 0:\n",
    "                        print(f'вчера вы не покормили дракона, он съел часть вашего скота, не забудьте его покормить сегодня!он съел:')\n",
    "                        if self.farm.animals[item][2] >= 1:\n",
    "                            self.farm.animals[item][2] -= 1\n",
    "                            print(f'\\t\\t\\t\\t\\t1 {item}') \n",
    "                    else:\n",
    "                        print(f'вчера вы не покормили дракона, ночью он побродил по сараям в поиске живности, но ничего не нашёл. в общем, он съел вас, придется начать игру заново')\n",
    "                        self.__del__()\n",
    "                        break\n",
    "        self.farm.feeded_animals = 0\n",
    "        self.activities = 0 \n",
    "        self.farm.day +=1\n",
    "        foxes = randint(0, 5)\n",
    "        if foxes > 4:\n",
    "            if self.farm.eggs > 0:\n",
    "                self.farm.eggs = self.farm.eggs - (self.farm.eggs // 3)\n",
    "                print(f'этой ночью в сарай с курицами пробралась лиса и утащила часть яиц(')\n",
    "        if self.farm.day // 3:\n",
    "            print(f'сегодня можно собрать дроп с грядок!')\n",
    "            if self.farm.tomatoes[1] == 0:\n",
    "                self.farm.tomatoes[1] += self.farm.tomatoes[0] * 30\n",
    "            if self.farm.potatoes[1] == 0:\n",
    "                self.farm.potatoes[1] += self.farm.potatoes[0] * 20\n",
    "            if self.farm.potatoes[1] == 0:\n",
    "                self.farm.mangoes[1] += self.farm.mangoes[0] * 1\n",
    "            if self.farm.irga[1] == 0:\n",
    "                self.farm.irga[1] += self.farm.irga[0] * 10\n",
    "            if self.farm.apples[1] == 0:\n",
    "                self.farm.apples[1] += self.farm.apples[0] * 15\n",
    "        else:\n",
    "            print(f'грядки еще пусты, обновятся через {self.farm.day % 3} суток, но, возможно, вы еще не собрали часть урожая:\\n\\tпомидоры: {self.farm.tomatoes[1]}\\n\\tкартошка:{self.farm.potatoes[1]}\\n\\tманго:{self.farm.mangoes[1]}\\n\\tяблоки:{self.farm.apples[1]}\\n\\tирга:{self.farm.irga[1]}')\n",
    "        if self.farm.animals['курица'][2] > 0:\n",
    "            extra_eggs = randint(1,2) * self.farm.animals['курица'][2]\n",
    "            self.farm.eggs += extra_eggs\n",
    "            print(f'курицы снесли {extra_eggs} яиц')\n",
    "        if self.farm.day // 2:\n",
    "            if self.farm.animals['корова'][2] > 0:\n",
    "                extra_milk = self.farm.animals['корова'][2]\n",
    "                self.farm.milk += extra_milk\n",
    "                print(f'коровы дали +{extra_milk} молока')\n",
    "                \n",
    "\n",
    "    def collect_plants(self):#тупо переносим то, что собрали в инвентарь\n",
    "        if self.activities < 3:\n",
    "            for item in self.farm.plants:\n",
    "                if self.farm.plants[item][1][1] > 0:\n",
    "                    self.farm.plants[item][1][2] +=self.farm.plants[item][1][1]\n",
    "                    self.farm.plants[item][1][1] = 0\n",
    "                    self.activities += 0.2   \n",
    "                    print(f'фермер собрал урожай!')             \n",
    "        else:\n",
    "            print(f'фермер провел весь день в трудах и очень устал! сегодня он отказыватся делать еще что-либо, начните новый день!')\n",
    "    \n",
    "\n",
    "    def feed_a_dragon(self):#прописать настроение, отношения, дописать езду на драконе, взаимодействие с овцами и фермером, все остально готово, осталось только проверить\n",
    "        if self.farm.dragon:\n",
    "            mood = randint(0,10)\n",
    "            if self.farm.animal_food >=100:\n",
    "                if mood == 10:\n",
    "                    print(f'у вас низкий уровень отношений с драконом, вы решаете покормить его, но он не в настроении( короче вас съели, но вы можете начать игру сначала')\n",
    "                    self.__del__()\n",
    "                else:\n",
    "                    self.farm.animal_food -= 100\n",
    "                    self.farm.dragon.relationships += 1\n",
    "                    self.farm.hungry += 1\n",
    "                    print(f'вы покормили дракона, и он вас даже не съел! +1 к уровню отношений')\n",
    "            else:\n",
    "                print(f'у вас недостаточно мешков с едой для того, чтобы накормить дракона! ему требуется 100 мешков')\n",
    "\n",
    "\n",
    "    def ride_a_dragon(self):\n",
    "        if self.activities < 3:\n",
    "            if self.farm.dragon.relationships > 8:\n",
    "                print(f'вы прокатились на драконе по округе! теперь все соседи вас боятся')\n",
    "                self.activities += 1\n",
    "            else:\n",
    "                print(f'ваши попытки оседлать дракона обернулись полным провалом, попробуйте улучшить с ним отношения')\n",
    "        else:\n",
    "            print(f'фермер провел весь день в трудах и очень устал! сегодня он отказыватся делать еще что-либо, начните новый день!')\n",
    "    \n",
    "grig = Farmer('Гришка')\n",
    "#grig.lets_meet()\n",
    "grig.show_farmer()\n",
    "grig.buy_a_barn()"
   ]
  },
  {
   "cell_type": "markdown",
   "id": "9f080ee4",
   "metadata": {},
   "source": [
    "по дефолту у фермера 10000 монет (для проверки я дала ему больше, а то копить будет долго), 20 грядок и один сарай, который достался ему в наследство\n",
    "каждый день он может совершать ограниченное кол-во действий, потом нужно начать новый день\n",
    "\n",
    "действия:\n",
    "купить сарай - buy_a_barn()\n",
    "купить еду для животных - buy_animal_food()\n",
    "купить животное - buy_an_animal()\n",
    "покормить животных - feed_animals()\n",
    "покормить дракона - feed_a_dragon()\n",
    "посадить культуру - plant()\n",
    "собрать дроп с огорода - collect_plants()\n",
    "зарезать свинью - kill()\n",
    "продать что-нибудь на рынке - go_to_market()\n",
    "покататься на драконе - ride_a_dragon()\n",
    "купить грядку - buy_seedbed()\n",
    "\n",
    "'мне только спросить':\n",
    "посмотреть что там у нас за фермер - show_farmer()\n",
    "посмотреть конкретный сарай - show_barn()\n",
    "посмотреть все сараи - show_barns()\n",
    "посмотреть количество животных на ферме - number_of_animals()\n",
    "посмотреть сколько нужно мешков еды, чтобы всех покормить - needed_bags()"
   ]
  },
  {
   "cell_type": "code",
   "execution_count": 745,
   "id": "8c2c6576",
   "metadata": {},
   "outputs": [
    {
     "name": "stdout",
     "output_type": "stream",
     "text": [
      "вы купили сарай! ваш кошелек опустел, и сейчас в нём 997900 золотых\n"
     ]
    }
   ],
   "source": [
    "grig.buy_a_barn()#купим еще один сарай"
   ]
  },
  {
   "cell_type": "code",
   "execution_count": 747,
   "id": "e5488a2c",
   "metadata": {},
   "outputs": [
    {
     "name": "stdout",
     "output_type": "stream",
     "text": [
      "1-й сарай\n",
      "животных в сарае:\t3\n",
      "вместимость:\t\tещё 9 животных (1-го размера)\n",
      "2-й сарай\n",
      "животных в сарае:\t2\n",
      "вместимость:\t\tещё 2 животных (3-го размера)\n"
     ]
    }
   ],
   "source": [
    "grig.buy_an_animal()#купили 3 курицы и 2 коровы (через инпут)"
   ]
  },
  {
   "cell_type": "code",
   "execution_count": 748,
   "id": "2658c21e",
   "metadata": {},
   "outputs": [
    {
     "name": "stdout",
     "output_type": "stream",
     "text": [
      "вы заполнили еще одну грядку! если хотите закончить, напишите \"закончить\"\n",
      "вы заполнили еще одну грядку! если хотите закончить, напишите \"закончить\"\n",
      "вы заполнили еще одну грядку! если хотите закончить, напишите \"закончить\"\n",
      "вы заполнили еще одну грядку! если хотите закончить, напишите \"закончить\"\n",
      "вы заполнили еще одну грядку! если хотите закончить, напишите \"закончить\"\n",
      "вы заполнили еще одну грядку! если хотите закончить, напишите \"закончить\"\n",
      "вы заполнили еще одну грядку! если хотите закончить, напишите \"закончить\"\n"
     ]
    }
   ],
   "source": [
    "grig.plant()#посадили 2 яблони, 2 грядки с картошкой, 1 манго, 2 дерева с иргой"
   ]
  },
  {
   "cell_type": "code",
   "execution_count": 749,
   "id": "4b258f07",
   "metadata": {},
   "outputs": [
    {
     "name": "stdout",
     "output_type": "stream",
     "text": [
      "ваш бюджет 994900 золотых\n",
      "вы можете продать:0 манго\n",
      "\t\t0 яблок\n",
      "\t\t0 стаканчиков ирги\n",
      "\t\t0 картошки\n",
      "\t\t0 помидоров\n",
      "\t\t0 яиц\n",
      "\t\t0 бутылок молока\n",
      "\t\t0 туш свинины\n"
     ]
    }
   ],
   "source": [
    "grig.go_to_market()#пока у него ничего нет\n"
   ]
  },
  {
   "cell_type": "code",
   "execution_count": 750,
   "id": "da7b5f89",
   "metadata": {},
   "outputs": [],
   "source": [
    "grig.buy_animal_food()#купили 150 мешков еды"
   ]
  },
  {
   "cell_type": "code",
   "execution_count": 751,
   "id": "dbf0c044",
   "metadata": {},
   "outputs": [
    {
     "name": "stdout",
     "output_type": "stream",
     "text": [
      "вы накормили всех своих животных, плюсик вам в карму!\n"
     ]
    }
   ],
   "source": [
    "grig.feed_animals()#покормили животных"
   ]
  },
  {
   "cell_type": "code",
   "execution_count": 752,
   "id": "d47e0a38",
   "metadata": {},
   "outputs": [
    {
     "name": "stdout",
     "output_type": "stream",
     "text": [
      "новый день - новый дроп!\n",
      "из новостей:\n",
      "животные тоже проснулись и хотят есть! для того, чтобы накормить всех 2, вам нужно 1 мешков еды\n",
      "грядки еще пусты, обновятся через 2 суток, но, возможно, вы еще не собрали часть урожая:\n",
      "\tпомидоры: 0\n",
      "\tкартошка:0\n",
      "\tманго:0\n",
      "\tяблоки:0\n",
      "\tирга:0\n",
      "курицы снесли 2 яиц\n",
      "коровы дали +1 молока\n"
     ]
    }
   ],
   "source": [
    "grig.start_day()#можно начать новый день p.s. перепутала в коде для 3 строчки кол-во животных, уже исправила"
   ]
  },
  {
   "cell_type": "code",
   "execution_count": 753,
   "id": "224eb929",
   "metadata": {},
   "outputs": [
    {
     "name": "stdout",
     "output_type": "stream",
     "text": [
      "ваш бюджет 994750 золотых\n",
      "вы можете продать:0 манго\n",
      "\t\t0 яблок\n",
      "\t\t0 стаканчиков ирги\n",
      "\t\t0 картошки\n",
      "\t\t0 помидоров\n",
      "\t\t2 яиц\n",
      "\t\t1 бутылок молока\n",
      "\t\t0 туш свинины\n",
      "вы заработали 12 золотых\n",
      "если вы закончили торговлю, напишите \"домой\"\n",
      "ваш бюджет 994762 золотых\n",
      "вы можете продать:0 манго\n",
      "\t\t0 яблок\n",
      "\t\t0 стаканчиков ирги\n",
      "\t\t0 картошки\n",
      "\t\t0 помидоров\n",
      "\t\t0 яиц\n",
      "\t\t1 бутылок молока\n",
      "\t\t0 туш свинины\n",
      "вы заработали 10 золотых\n",
      "если вы закончили торговлю, напишите \"домой\"\n",
      "ваш бюджет 994772 золотых\n",
      "вы можете продать:0 манго\n",
      "\t\t0 яблок\n",
      "\t\t0 стаканчиков ирги\n",
      "\t\t0 картошки\n",
      "\t\t0 помидоров\n",
      "\t\t0 яиц\n",
      "\t\t0 бутылок молока\n",
      "\t\t0 туш свинины\n"
     ]
    }
   ],
   "source": [
    "grig.go_to_market()#можно пойти на рынок и продать молоко и яйца"
   ]
  },
  {
   "cell_type": "markdown",
   "id": "41ae731a",
   "metadata": {},
   "source": [
    "продали"
   ]
  },
  {
   "cell_type": "code",
   "execution_count": 754,
   "id": "0cb00f6f",
   "metadata": {},
   "outputs": [
    {
     "name": "stdout",
     "output_type": "stream",
     "text": [
      "вы накормили всех своих животных, плюсик вам в карму!\n"
     ]
    }
   ],
   "source": [
    "grig.feed_animals()#покормим животных и пойдем спать"
   ]
  },
  {
   "cell_type": "code",
   "execution_count": 755,
   "id": "58696b4f",
   "metadata": {},
   "outputs": [
    {
     "name": "stdout",
     "output_type": "stream",
     "text": [
      "новый день - новый дроп!\n",
      "из новостей:\n",
      "животные тоже проснулись и хотят есть! для того, чтобы накормить всех 2, вам нужно 1 мешков еды\n",
      "сегодня можно собрать дроп с грядок!\n",
      "курицы снесли 2 яиц\n",
      "коровы дали +1 молока\n"
     ]
    }
   ],
   "source": [
    "grig.start_day()#появился дроп с грядок"
   ]
  },
  {
   "cell_type": "code",
   "execution_count": 756,
   "id": "0de8a5b7",
   "metadata": {},
   "outputs": [
    {
     "name": "stdout",
     "output_type": "stream",
     "text": [
      "фермер собрал урожай!\n",
      "фермер собрал урожай!\n",
      "фермер собрал урожай!\n",
      "фермер собрал урожай!\n"
     ]
    }
   ],
   "source": [
    "grig.collect_plants()#соберем его"
   ]
  },
  {
   "cell_type": "code",
   "execution_count": 757,
   "id": "0b5e5bbb",
   "metadata": {},
   "outputs": [
    {
     "name": "stdout",
     "output_type": "stream",
     "text": [
      "ваш бюджет 994772 золотых\n",
      "вы можете продать:0 манго\n",
      "\t\t180 яблок\n",
      "\t\t120 стаканчиков ирги\n",
      "\t\t240 картошки\n",
      "\t\t300 помидоров\n",
      "\t\t2 яиц\n",
      "\t\t1 бутылок молока\n",
      "\t\t0 туш свинины\n",
      "вы заработали 12000 золотых\n",
      "если вы закончили торговлю, напишите \"домой\"\n",
      "ваш бюджет 1006772 золотых\n",
      "вы можете продать:0 манго\n",
      "\t\t80 яблок\n",
      "\t\t120 стаканчиков ирги\n",
      "\t\t240 картошки\n",
      "\t\t300 помидоров\n",
      "\t\t2 яиц\n",
      "\t\t1 бутылок молока\n",
      "\t\t0 туш свинины\n"
     ]
    }
   ],
   "source": [
    "grig.go_to_market()#пойдем все продадим"
   ]
  },
  {
   "cell_type": "code",
   "execution_count": 758,
   "id": "6b24eb66",
   "metadata": {},
   "outputs": [
    {
     "name": "stdout",
     "output_type": "stream",
     "text": [
      "ваш бюджет 1006772 золотых\n",
      "вы можете продать:0 манго\n",
      "\t\t80 яблок\n",
      "\t\t120 стаканчиков ирги\n",
      "\t\t240 картошки\n",
      "\t\t300 помидоров\n",
      "\t\t2 яиц\n",
      "\t\t1 бутылок молока\n",
      "\t\t0 туш свинины\n",
      "вы заработали 8000 золотых\n",
      "если вы закончили торговлю, напишите \"домой\"\n",
      "ваш бюджет 1014772 золотых\n",
      "вы можете продать:0 манго\n",
      "\t\t80 яблок\n",
      "\t\t120 стаканчиков ирги\n",
      "\t\t40 картошки\n",
      "\t\t300 помидоров\n",
      "\t\t2 яиц\n",
      "\t\t1 бутылок молока\n",
      "\t\t0 туш свинины\n",
      "вы заработали 7 золотых\n",
      "если вы закончили торговлю, напишите \"домой\"\n",
      "ваш бюджет 1014779 золотых\n",
      "вы можете продать:0 манго\n",
      "\t\t80 яблок\n",
      "\t\t120 стаканчиков ирги\n",
      "\t\t40 картошки\n",
      "\t\t300 помидоров\n",
      "\t\t1 яиц\n",
      "\t\t1 бутылок молока\n",
      "\t\t0 туш свинины\n"
     ]
    }
   ],
   "source": [
    "grig.go_to_market()#фермер забыл продать картошку и яйца, возвращаемся"
   ]
  },
  {
   "cell_type": "code",
   "execution_count": 765,
   "id": "d7d85a4f",
   "metadata": {},
   "outputs": [
    {
     "name": "stdout",
     "output_type": "stream",
     "text": [
      "1-й сарай\n",
      "животных в сарае:\t5\n",
      "вместимость:\t\tещё 7 животных (1-го размера)\n",
      "2-й сарай\n",
      "животных в сарае:\t4\n",
      "вместимость:\t\tещё 0 животных (3-го размера)\n",
      "3-й сарай\n",
      "животных в сарае:\t2\n",
      "вместимость:\t\tещё 6 животных (2-го размера)\n"
     ]
    }
   ],
   "source": [
    "grig.buy_an_animal()#купим еще несколько животных"
   ]
  },
  {
   "cell_type": "code",
   "execution_count": 766,
   "id": "471b4d5a",
   "metadata": {},
   "outputs": [
    {
     "name": "stdout",
     "output_type": "stream",
     "text": [
      "вы накормили всех своих животных, плюсик вам в карму!\n"
     ]
    }
   ],
   "source": [
    "grig.feed_animals()#накормим их"
   ]
  },
  {
   "cell_type": "code",
   "execution_count": 767,
   "id": "e84b897e",
   "metadata": {},
   "outputs": [
    {
     "name": "stdout",
     "output_type": "stream",
     "text": [
      "фермер решил убить свинью, но он никому об этом не расскажет, это решение далось ему нелегко\n",
      "у фермера началась депрессия\n",
      "он заперся дома и до завтрашнего дня он не выйдет из дома\n",
      "новый день - новый дроп!\n",
      "из новостей:\n",
      "животные тоже проснулись и хотят есть! для того, чтобы накормить всех 2, вам нужно 1 мешков еды\n",
      "сегодня можно собрать дроп с грядок!\n",
      "курицы снесли 1 яиц\n",
      "коровы дали +1 молока\n"
     ]
    }
   ],
   "source": [
    "grig.kill()#фермер решил убить свинью, автоматически начинается новый день"
   ]
  },
  {
   "cell_type": "code",
   "execution_count": 783,
   "id": "95a7f996",
   "metadata": {},
   "outputs": [
    {
     "name": "stdout",
     "output_type": "stream",
     "text": [
      "вы поселили в ваш сарай дракона по имени Драко, вряд ли кто-то еще туда вместится и вообще согласится с ним соседствовать!\n",
      " будем надеяться, что он не сожжет свой уютный деревянный сарайчик,\n",
      " будьте аккуратны и вовремя кормите его, вы же не хотите узнать, что будет, если этого не делать))))\n"
     ]
    }
   ],
   "source": [
    "grig.buy_an_animal()#фермер решил купить дракона"
   ]
  },
  {
   "cell_type": "code",
   "execution_count": 770,
   "id": "505f4593",
   "metadata": {},
   "outputs": [
    {
     "name": "stdout",
     "output_type": "stream",
     "text": [
      "ваши попытки оседлать дракона обернулись полным провалом, попробуйте улучшить с ним отношения\n"
     ]
    }
   ],
   "source": [
    "grig.ride_a_dragon()#хочет на нем покататься"
   ]
  },
  {
   "cell_type": "code",
   "execution_count": 771,
   "id": "d6f3a88c",
   "metadata": {},
   "outputs": [],
   "source": [
    "grig.buy_animal_food()"
   ]
  },
  {
   "cell_type": "code",
   "execution_count": 778,
   "id": "dd268fca",
   "metadata": {},
   "outputs": [
    {
     "name": "stdout",
     "output_type": "stream",
     "text": [
      "вы покормили дракона, и он вас даже не съел! +1 к уровню отношений\n"
     ]
    }
   ],
   "source": [
    "grig.feed_a_dragon()#покормил его, прокачал немного отношения"
   ]
  },
  {
   "cell_type": "code",
   "execution_count": 780,
   "id": "1eea38e0",
   "metadata": {},
   "outputs": [
    {
     "name": "stdout",
     "output_type": "stream",
     "text": [
      "новый день - новый дроп!\n",
      "из новостей:\n",
      "вчера вы не покормили часть животных.. \n",
      "часть ваших животных умерла с голоду. а именно:\n",
      "\t\t\t1 курица\n",
      "\t\t\t1 корова\n",
      "животные тоже проснулись и хотят есть! для того, чтобы накормить всех 0, вам нужно 0 мешков еды\n",
      "сегодня можно собрать дроп с грядок!\n"
     ]
    }
   ],
   "source": [
    "grig.start_day()#так заигрался с драконом, что забыл покормить животных"
   ]
  },
  {
   "cell_type": "code",
   "execution_count": 798,
   "id": "5cb8670f",
   "metadata": {},
   "outputs": [
    {
     "name": "stdout",
     "output_type": "stream",
     "text": [
      "новый день - новый дроп!\n",
      "из новостей:\n",
      "вчера вы не покормили дракона, ночью он побродил по сараям в поиске живности, но ничего не нашёл. в общем, он съел вас, придется начать игру заново\n",
      "начните игру заново\n",
      "сегодня можно собрать дроп с грядок!\n"
     ]
    }
   ],
   "source": [
    "grig.start_day()#проспал весь следующий день и больше не проснулся, зато можно собрать урожай!) но кто его будет собирать.."
   ]
  }
 ],
 "metadata": {
  "kernelspec": {
   "display_name": "Python 3 (ipykernel)",
   "language": "python",
   "name": "python3"
  },
  "language_info": {
   "codemirror_mode": {
    "name": "ipython",
    "version": 3
   },
   "file_extension": ".py",
   "mimetype": "text/x-python",
   "name": "python",
   "nbconvert_exporter": "python",
   "pygments_lexer": "ipython3",
   "version": "3.9.13"
  }
 },
 "nbformat": 4,
 "nbformat_minor": 5
}
