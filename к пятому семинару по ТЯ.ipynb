{
 "cells": [
  {
   "cell_type": "markdown",
   "metadata": {},
   "source": [
    "#### Задача 9. \n",
    "\n",
    "Сортировка с ё: дан список слов, которые нужно отсортировать по алфавиту таким образом, чтобы слова с буквой ё вставали в правильные места. Нужно использовать параметр key и написать свою дополнительную функцию, которую в него передавать. "
   ]
  },
  {
   "cell_type": "code",
   "execution_count": 1,
   "metadata": {},
   "outputs": [],
   "source": [
    "def strlist1(a):\n",
    "    res = []\n",
    "    for i in a:\n",
    "        if i == 'ё':\n",
    "           i = ord('е') + 0.3\n",
    "           res.append(i)\n",
    "        else:\n",
    "           res.append(ord(i))\n",
    "    return res"
   ]
  },
  {
   "cell_type": "code",
   "execution_count": 4,
   "metadata": {},
   "outputs": [
    {
     "data": {
      "text/plain": [
       "['ае', 'аё', 'аж', 'ая', 'еа', 'ель', 'ёа', 'ёж', 'матрёшка', 'медь', 'мёд']"
      ]
     },
     "execution_count": 4,
     "metadata": {},
     "output_type": "execute_result"
    }
   ],
   "source": [
    "sorted(input().split(), key = strlist1)#ёж ель матрёшка мёд медь ая аё ёа еа ае аж"
   ]
  },
  {
   "cell_type": "markdown",
   "metadata": {},
   "source": [
    "#### Задача 10. \n",
    "\n",
    "Зализняк: отсортируйте список слов в алфавитном порядке, но с конца, как в словаре Зализняка. Например, слова \"арзуз, вася, мама\" выстроятся как \"мама, арбуз, вася\". "
   ]
  },
  {
   "cell_type": "code",
   "execution_count": null,
   "metadata": {},
   "outputs": [],
   "source": [
    "sorted(input().split(), key = lambda x: x[-1])"
   ]
  }
 ],
 "metadata": {
  "kernelspec": {
   "display_name": "Python 3.9.13 64-bit",
   "language": "python",
   "name": "python3"
  },
  "language_info": {
   "codemirror_mode": {
    "name": "ipython",
    "version": 3
   },
   "file_extension": ".py",
   "mimetype": "text/x-python",
   "name": "python",
   "nbconvert_exporter": "python",
   "pygments_lexer": "ipython3",
   "version": "3.9.13"
  },
  "orig_nbformat": 4,
  "vscode": {
   "interpreter": {
    "hash": "86b03b889bc98c60141984ab1e3b5e06b05f084abd3c59c49972c0ee9480871b"
   }
  }
 },
 "nbformat": 4,
 "nbformat_minor": 2
}
