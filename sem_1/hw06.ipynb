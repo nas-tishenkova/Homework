{
 "cells": [
  {
   "cell_type": "code",
   "execution_count": 2,
   "id": "a89e2264-2e66-480b-bcc7-b4c8ff99bad2",
   "metadata": {},
   "outputs": [],
   "source": [
    "import re"
   ]
  },
  {
   "cell_type": "markdown",
   "id": "210eeb0f-4e33-47c0-a8c6-e8fb51948f45",
   "metadata": {},
   "source": [
    "Для всех задач, где формулировка вида \"найдите в тексте\", тексты для проверки вы можете выбирать абсолютно любые. "
   ]
  },
  {
   "cell_type": "markdown",
   "id": "fde27042-b65f-463e-b3fc-2bad477d6c63",
   "metadata": {
    "tags": []
   },
   "source": [
    "#### Задача 1. \n",
    "\n",
    "Найдите в тексте все смайлики вида :), :(, :-), :-(."
   ]
  },
  {
   "cell_type": "code",
   "execution_count": 209,
   "id": "c52e49dd-7f50-4184-9532-679b361ea564",
   "metadata": {},
   "outputs": [
    {
     "name": "stdout",
     "output_type": "stream",
     "text": [
      "[':)', ':(', ':)', ':-)', ':-(']\n"
     ]
    }
   ],
   "source": [
    "text1 = 'fso 43934 :). fls78 349j :(:) dl;f :-) lfd;f?, :-(, difp'\n",
    "a = re.findall(r'(:\\)|:\\(|:-\\(|:-\\))', text1)\n",
    "print(a)"
   ]
  },
  {
   "cell_type": "markdown",
   "id": "b29acd46-386e-4132-bf00-44315d5c4307",
   "metadata": {},
   "source": [
    "#### Задача 2.\n",
    "\n",
    "Некоторые любят выделять особо важные места в тексте с помощью нижнего подчёркивания, например: \"...здесь \\_очень важно\\_ отметить...\" (дело в том, что нижние подчеркивания в некоторых редакторах автоматически превращаются в курсив).\n",
    "\n",
    "Ищем такие выделения, но не длиннее 5 слов."
   ]
  },
  {
   "cell_type": "code",
   "execution_count": 482,
   "id": "b937ddf4",
   "metadata": {},
   "outputs": [
    {
     "name": "stdout",
     "output_type": "stream",
     "text": [
      "['abc_cba_ab_ca', 'qw_wq', 'bnm_mnb_bmn_nmb_mbn']\n"
     ]
    }
   ],
   "source": [
    "text2 = 'abc_cba_ab_ca qw_wq bnm_mnb_bmn_nmb_mbn sdsdbrklckej fgh_ghf_hgf_gfh_fhg_hfg_ert_tre_ret fls'\n",
    "a = re.finditer(r'(\\b([a-z]*_){1,5}[a-z]*\\b)', text2)\n",
    "nums = []\n",
    "for match in a:\n",
    "    nums.append(match.group(0))\n",
    "print(nums)\n"
   ]
  },
  {
   "cell_type": "markdown",
   "id": "5d2981c3-0a88-439b-80e6-4066fb42395f",
   "metadata": {},
   "source": [
    "#### Задача 3.\n",
    "\n",
    "Найдите в тексте все куски, которые взяты в круглые скобки. "
   ]
  },
  {
   "cell_type": "code",
   "execution_count": 207,
   "id": "9b19dee6-9b0d-4d5c-aa58-fcad766674ee",
   "metadata": {},
   "outputs": [
    {
     "name": "stdout",
     "output_type": "stream",
     "text": [
      "['(dfk)', '(df)', '(dn, jfhs,6789/./././ f)']\n"
     ]
    }
   ],
   "source": [
    "text3 = 'dhjk (dfk) kffl(df) dflsds..sf (dn, jfhs,6789/./././ f)'\n",
    "a = re.findall(r'\\([^)]+\\)', text3)\n",
    "print(a)"
   ]
  },
  {
   "cell_type": "markdown",
   "id": "4e963954-e84b-47a5-b6ea-7c39306a7b5e",
   "metadata": {},
   "source": [
    "#### Задача 7. \n",
    "\n",
    "Найдите в тексте смайлики вида \\*_\\*, \\^_\\^, T_T (а смайлики вида o_O нам не нужны)."
   ]
  },
  {
   "cell_type": "code",
   "execution_count": 206,
   "id": "bb07bd01-7161-4af1-8b02-f1d62e764a64",
   "metadata": {},
   "outputs": [
    {
     "name": "stdout",
     "output_type": "stream",
     "text": [
      "['*_*', '^_^', 'T_T']\n"
     ]
    }
   ],
   "source": [
    "text4 = '*_*,kjk o_O ^_^, ikl T_T.  dfghlk o_O'\n",
    "a = re.findall(r'([^o]_[^O])', text4)\n",
    "print(a)"
   ]
  },
  {
   "cell_type": "markdown",
   "id": "342e88f0-e1f6-4284-b975-4b6e8d09163f",
   "metadata": {},
   "source": [
    "#### Задача 9. \n",
    "\n",
    "Представим, что есть некоторые данные, представляющие из себя последовательность символов. С помощью регулярного выражения надо найти в них подпоследовательности, являющимися палиндромами, длины не менее 6-ти и не более 11 символов. (Подумайте, а хорошо ли подходят регулярные выражения для решения этой задачи?)"
   ]
  },
  {
   "cell_type": "code",
   "execution_count": null,
   "id": "77c1f0c0-c211-44f9-9cd4-54bb490ec6d7",
   "metadata": {},
   "outputs": [],
   "source": [
    "#я долго пыталась, но не получилось..."
   ]
  },
  {
   "cell_type": "markdown",
   "id": "3596643f-878d-4b1e-89ed-13336fe44669",
   "metadata": {},
   "source": [
    "#### Задача 10.\n",
    "\n",
    "Найти в тексте все употребления слов \"понравилось\" и \"впечатлило\" такие, что непосредственно перед ними НЕ стоит \"не\". Время прошедшее, но род/число могут быть любыми."
   ]
  },
  {
   "cell_type": "code",
   "execution_count": 433,
   "id": "f2882c65",
   "metadata": {},
   "outputs": [
    {
     "data": {
      "text/plain": [
       "['понравилось', 'впечатлило']"
      ]
     },
     "execution_count": 433,
     "metadata": {},
     "output_type": "execute_result"
    }
   ],
   "source": [
    "text6 = 'ей не понравились, мне понравилось, меня впечатлило, нас не впечатлили'\n",
    "re.findall(r'(?<! не )(понравились|понравилось|понравилась|понравился|впечатлили|впечатлила|впечатлило|впечатлило)', text6)"
   ]
  },
  {
   "cell_type": "markdown",
   "id": "90e3188b-8f90-473e-9bed-068879bf958d",
   "metadata": {},
   "source": [
    "#### Задача 11. \n",
    "\n",
    "Дан текст, каждая строка является именем некоторого файла (без директории). Напишите регулярное выражение, которое захватывает имена файлов без расширения, при этом интерес представляют только те файлы, у которых расширение не .bat и не .txt."
   ]
  },
  {
   "cell_type": "code",
   "execution_count": 410,
   "id": "8f01cb3a-a167-4a83-a37c-6fa7eda761d8",
   "metadata": {},
   "outputs": [
    {
     "name": "stdout",
     "output_type": "stream",
     "text": [
      "Все что есть:\n",
      "rabota.exe\n",
      "ucheba.txt\n",
      "code.ipynb\n",
      "changed.py\n",
      "dela.exe\n",
      "chtoto.bat\n",
      "Имена не с расширением \".bat/.txt\":\n",
      "['rabota', 'code', 'changed', 'dela']\n"
     ]
    }
   ],
   "source": [
    "text11 = 'rabota.exe\\nucheba.txt\\ncode.ipynb\\nchanged.py\\ndela.exe\\nchtoto.bat'\n",
    "s = re.findall(r'\\b(\\w*)\\.[^(txt|bat)]', text11)\n",
    "print(f'Все что есть:\\n{text11}\\nИмена не с расширением \".bat/.txt\":\\n{s}')"
   ]
  },
  {
   "cell_type": "markdown",
   "id": "e5a57165-c138-47b0-8804-c53a5da6c67d",
   "metadata": {},
   "source": [
    "#### Задача 13.\n",
    "\n",
    "Увеличить все встретившиеся в тексте четные числа на 1, а нечетные на 2, в том числе и отрицательные. Перед числом может стоять знак. Считаем, что между знаком и числом пробела нет."
   ]
  },
  {
   "cell_type": "code",
   "execution_count": 495,
   "id": "dd21a4b3-5ed0-4305-8b0a-9d899b503aaa",
   "metadata": {},
   "outputs": [
    {
     "name": "stdout",
     "output_type": "stream",
     "text": [
      "это были четные: [3, 5, -13, 3, 5]\n",
      "это были нечетные: [1, 3, 7]\n"
     ]
    }
   ],
   "source": [
    "text7 = '2 4 -14 2 1 5 4'\n",
    "a = re.findall(r'-*\\d*[24680]', text7)\n",
    "b = re.findall(r'-*\\d*[13579]', text7)\n",
    "c = []\n",
    "d = []\n",
    "for i in a:\n",
    "    i = int(i)\n",
    "    i+=1\n",
    "    c.append(i)\n",
    "print(f'это были четные: {c}')\n",
    "for i in b:\n",
    "    i = int(i)\n",
    "    i+=2\n",
    "    d.append(i)\n",
    "print(f'это были нечетные: {d}')\n"
   ]
  }
 ],
 "metadata": {
  "kernelspec": {
   "display_name": "Python 3.9.13 64-bit",
   "language": "python",
   "name": "python3"
  },
  "language_info": {
   "codemirror_mode": {
    "name": "ipython",
    "version": 3
   },
   "file_extension": ".py",
   "mimetype": "text/x-python",
   "name": "python",
   "nbconvert_exporter": "python",
   "pygments_lexer": "ipython3",
   "version": "3.9.13"
  },
  "vscode": {
   "interpreter": {
    "hash": "86b03b889bc98c60141984ab1e3b5e06b05f084abd3c59c49972c0ee9480871b"
   }
  }
 },
 "nbformat": 4,
 "nbformat_minor": 5
}
