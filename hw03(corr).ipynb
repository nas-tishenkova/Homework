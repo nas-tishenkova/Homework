{
 "cells": [
  {
   "cell_type": "markdown",
   "id": "97a792f9-e32d-4409-8db0-5e6cefd7d10a",
   "metadata": {},
   "source": [
    "## Задание 1.\n",
    "\n",
    "Вводится список чисел через пробел. Поменяйте в этом списке самое маленькое и самое большое число местами, н-р, список 4 2 6 3 7 5 должен превратиться в 4 7 6 3 2 5"
   ]
  },
  {
   "cell_type": "code",
   "execution_count": 40,
   "id": "ed6f2b58-0d49-48f9-8443-56ddbf1a395c",
   "metadata": {},
   "outputs": [
    {
     "name": "stdout",
     "output_type": "stream",
     "text": [
      "['4', '7', '6', '3', '2', '5']\n"
     ]
    }
   ],
   "source": [
    "a = input().split()#4 2 6 3 7 5\n",
    "x = a.index(min(a))\n",
    "y = a.index(max(a))\n",
    "c = min(a)\n",
    "d = max(a)\n",
    "a[y] = c\n",
    "a[x] = d\n",
    "print(a)"
   ]
  },
  {
   "cell_type": "code",
   "execution_count": 46,
   "id": "db8a9bd3",
   "metadata": {},
   "outputs": [
    {
     "name": "stdout",
     "output_type": "stream",
     "text": [
      "['4', '7', '6', '3', '2', '5']\n"
     ]
    }
   ],
   "source": [
    "a = input().split()\n",
    "x = a.index(min(a))\n",
    "y = a.index(max(a))\n",
    "a[x], a[y] = a[y], a[x]\n",
    "print(a)\n",
    "#чуть короче и немного другим способом"
   ]
  },
  {
   "cell_type": "markdown",
   "id": "f6cf0459-4d88-4fcd-8ef7-d505e5503f3d",
   "metadata": {},
   "source": [
    "## Задание 2. \n",
    "\n",
    "Вводится список (чего угодно, как угодно). Нужно все элементы поменять местами, н-р, список вида 1 2 3 4 5 превращается в 2 1 4 3 5. "
   ]
  },
  {
   "cell_type": "code",
   "execution_count": 2,
   "id": "09649b92",
   "metadata": {},
   "outputs": [
    {
     "name": "stdout",
     "output_type": "stream",
     "text": [
      "['1', '2', '2', '1', '3', '4']\n"
     ]
    }
   ],
   "source": [
    "a = input().split()\n",
    "for i in range(0, len(a) - 1, 2):\n",
    "    b = i + 1\n",
    "    a[i], a[b] = a[b], a[i]\n",
    "print(a)\n"
   ]
  },
  {
   "cell_type": "markdown",
   "id": "9ba60057-d600-4878-b05d-2adada21b4bb",
   "metadata": {},
   "source": [
    "## Задание 3. \n",
    "\n",
    "Петя перешёл в другую школу. На уроке физкультуры ему понадобилось определить своё место в строю. Помогите ему это сделать.\n",
    "\n",
    "Программа получает на вход невозрастающую последовательность натуральных чисел, означающих рост каждого человека в строю. После этого вводится число X – рост Пети. Все числа во входных данных натуральные и не превышают 200.\n",
    "\n",
    "Выведите номер, под которым Петя должен встать в строй. Если в строю есть люди с одинаковым ростом, таким же, как у Пети, то он должен встать после них."
   ]
  },
  {
   "cell_type": "code",
   "execution_count": 61,
   "id": "7f6c4bd6",
   "metadata": {},
   "outputs": [
    {
     "name": "stdout",
     "output_type": "stream",
     "text": [
      "3\n"
     ]
    }
   ],
   "source": [
    "a = input().split()#172 170 168 165 164 164 150\n",
    "x = int(input())#170\n",
    "d = 0\n",
    "for i in range(0, len(a)):\n",
    "    n = int(a[i])\n",
    "    if n >= x:\n",
    "        d = i + 1\n",
    "print(d + 1)"
   ]
  },
  {
   "cell_type": "markdown",
   "id": "a103d53d-3682-470c-b469-6b10c1beba67",
   "metadata": {},
   "source": [
    "## Задание 4.\n",
    "\n",
    "Известно, что на доске 8х8 можно расставить 8 ферзей так, чтобы они не били друг друга. Вам дана расстановка 8 ферзей на доске, определите, есть ли среди них пара бьющих друг друга.\n",
    "Программа получает на вход восемь пар чисел, каждое число от 1 до 8 — координаты 8 ферзей. Если ферзи не бьют друг друга, выведите слово NO, иначе выведите YES."
   ]
  },
  {
   "cell_type": "code",
   "execution_count": 84,
   "id": "f8962e7d",
   "metadata": {},
   "outputs": [
    {
     "name": "stdout",
     "output_type": "stream",
     "text": [
      "[1, 1, 1, 1, 1, 1, 1, 1] [2, 2, 2, 2, 2, 2, 2, 2]\n",
      "YES\n"
     ]
    }
   ],
   "source": [
    "n = 8 \n",
    "x = [0] * 8 #2 7 5 8 1 4 6 3 \n",
    "y = [0] * 8 #1 2 3 4 5 6 7 8 \n",
    "for i in range(n):\n",
    "    x[i], y[i] = [int(f) for f in input('введите пару координат').split()]\n",
    "for i in range(n):\n",
    "    for j in range(i + 1, n):\n",
    "        if x[i] == x[j] or y[i] == y[j] or abs(x[i] - x[j]) == abs(y[i] - y[j]):\n",
    "            t = False \n",
    "if t:\n",
    "    print('NO')\n",
    "else:\n",
    "    print('YES')\n"
   ]
  },
  {
   "cell_type": "markdown",
   "id": "9451e6ee-1ed7-4d33-a6f3-baa2fcd72324",
   "metadata": {},
   "source": [
    "## Задание 5.\n",
    "\n",
    "Дан список. Удалите из списка все повторы, то есть, оставьте в списке каждый элемент только в одном экземпляре (остаться должно только первое появление элемента в списке). Программа не должна использовать дополнительную память: это означает, что нельзя пользоваться множествами и генераторами, можно только производить изменения в самом списке. "
   ]
  },
  {
   "cell_type": "code",
   "execution_count": 51,
   "id": "ef8c93f4-baee-4e7c-b5d9-05d0cabf3198",
   "metadata": {},
   "outputs": [
    {
     "name": "stdout",
     "output_type": "stream",
     "text": [
      "['1', '2', '3']\n"
     ]
    }
   ],
   "source": [
    "l = input().split()\n",
    "for i in l:\n",
    "    if l.count(i) > 1:\n",
    "        a = l.index(i)\n",
    "        del l[a]\n",
    "print(l)\n",
    "\n"
   ]
  },
  {
   "cell_type": "markdown",
   "id": "30fa8c16-a47f-4175-8d9e-bdcc988f27aa",
   "metadata": {},
   "source": [
    "## Задание 6.\n",
    "\n",
    "На вход программе даётся число N и список. Удалите из списка все элементы, которые встречаются в нём ровно N раз. Программа не должна использовать дополнительную память."
   ]
  },
  {
   "cell_type": "code",
   "execution_count": 35,
   "id": "c0c2930e",
   "metadata": {},
   "outputs": [
    {
     "name": "stdout",
     "output_type": "stream",
     "text": [
      "['9']\n"
     ]
    }
   ],
   "source": [
    "a = input().split()\n",
    "n = int(input())\n",
    "for i in a:\n",
    "    if a.count(i) == n:\n",
    "        del a[a.index(i)] \n",
    "        while i in a:\n",
    "            del a[a.index(i)]\n",
    "print(*a)"
   ]
  },
  {
   "cell_type": "markdown",
   "id": "331960ba-44ec-4441-b3e1-1831fc9a210d",
   "metadata": {},
   "source": [
    "## \\* Задание 7. \n",
    "\n",
    "На вход программе даётся число X и список чисел. Удалите из списка все вхождения элемента X. Программа должна работать за линейное время. Программа не должна использовать дополнительную память. Код для проверки на линейность уже вписан (если меняете D с 10000 на 100000, время должно увеличиться не больше чем в 10 раз). Такую проверку можно использовать и в скрипте .py."
   ]
  },
  {
   "cell_type": "code",
   "execution_count": 28,
   "id": "65ae1fb2-9f4e-4490-a220-4135e84d328e",
   "metadata": {},
   "outputs": [
    {
     "name": "stdout",
     "output_type": "stream",
     "text": [
      "0.0007398128509521484\n",
      "[1, 3, 1, 3, 1, 3, 1, 3, 1, 3, 1, 3, 1, 3, 1, 3, 1, 3, 1, 3, 1, 3, 1, 3, 1, 3, 1, 3, 1, 3] 2000\n"
     ]
    }
   ],
   "source": [
    "import time\n",
    "\n",
    "D = int(input('d')) #1000\n",
    "spis_ch = [int(i) for i in input('список чисел').split()]#1232\n",
    "spis_ch *= D\n",
    "N = int(input('x'))#2\n",
    "t = time.time()\n",
    "\n",
    "i = 0\n",
    "for j in range(len(spis_ch)):#len(1232*1000)=4000(0,3999)\n",
    "    if spis_ch[j] != N:#j=0 = 1 != 2\n",
    "        spis_ch[i] = spis_ch[j]\n",
    "        i += 1\n",
    "del spis_ch[i:]\n",
    "print(time.time() - t)\n",
    "print(spis_ch[:30], len(spis_ch))"
   ]
  },
  {
   "cell_type": "markdown",
   "id": "d207a91f-57c6-4d13-9a57-80f8a411e0af",
   "metadata": {},
   "source": [
    "## \\* Задание 8.\n",
    "\n",
    "Решите задачу 5 за линейное время. Можно использовать дополнительную память. Для проверки можете использовать код в задаче 7."
   ]
  },
  {
   "cell_type": "code",
   "execution_count": 42,
   "id": "b4358ceb-5adc-46f8-897b-a89c1b37fff5",
   "metadata": {},
   "outputs": [
    {
     "name": "stdout",
     "output_type": "stream",
     "text": [
      "['1', '2', '3', '23']\n",
      "0.006979465484619141\n"
     ]
    }
   ],
   "source": [
    "import time\n",
    "D = int(input('d')) #1000#10000\n",
    "l = input().split()#1 2 3 23 3 1\n",
    "b = []\n",
    "l *= D\n",
    "t = time.time()\n",
    "for i in l:\n",
    "    if i not in b:\n",
    "        b.append(i)\n",
    "print(b)\n",
    "print(time.time() - t)#0.0009968280792236328 #0.006979465484619141"
   ]
  },
  {
   "cell_type": "code",
   "execution_count": 43,
   "id": "db8eda1f",
   "metadata": {},
   "outputs": [
    {
     "data": {
      "text/plain": [
       "7.001674240612294"
      ]
     },
     "execution_count": 43,
     "metadata": {},
     "output_type": "execute_result"
    }
   ],
   "source": [
    "0.006979465484619141/0.0009968280792236328"
   ]
  },
  {
   "cell_type": "markdown",
   "id": "b5702a70-109c-4d80-9593-11d73152642d",
   "metadata": {},
   "source": [
    "## \\* Задание 9. \n",
    "\n",
    "Решите задачу 6 за линейное время. Можно использовать дополнительную память. "
   ]
  },
  {
   "cell_type": "code",
   "execution_count": 1,
   "id": "de8dedb2",
   "metadata": {},
   "outputs": [
    {
     "data": {
      "text/plain": [
       "80.5170593612692"
      ]
     },
     "execution_count": 1,
     "metadata": {},
     "output_type": "execute_result"
    }
   ],
   "source": [
    "5.858832836151123/0.07276511192321777"
   ]
  },
  {
   "cell_type": "markdown",
   "id": "caece3be-f46a-4db2-af15-5ca77a74fc00",
   "metadata": {},
   "source": [
    "## Задание 10. \n",
    "\n",
    "Напишите функцию, которая принимает строчку и возвращает порядковые номера всех букв в этой строчке в виде списка (напоминаю, что порядковый номер буквы в юникоде возвращает ord('c')). "
   ]
  },
  {
   "cell_type": "code",
   "execution_count": 79,
   "id": "81629280-20ec-40e2-87f9-39825830661c",
   "metadata": {},
   "outputs": [],
   "source": [
    "def poryadk():#hello\n",
    "    g = []\n",
    "    a = input()\n",
    "    for i in a:\n",
    "        g.append(f'{i}: {ord(i)}')\n",
    "    print(g)\n",
    "     \n"
   ]
  },
  {
   "cell_type": "code",
   "execution_count": 80,
   "id": "32e5ad2f",
   "metadata": {},
   "outputs": [
    {
     "name": "stdout",
     "output_type": "stream",
     "text": [
      "['h: 104', 'e: 101', 'l: 108', 'l: 108', 'o: 111']\n"
     ]
    }
   ],
   "source": [
    "poryadk()"
   ]
  }
 ],
 "metadata": {
  "kernelspec": {
   "display_name": "Python 3.9.13 64-bit",
   "language": "python",
   "name": "python3"
  },
  "language_info": {
   "codemirror_mode": {
    "name": "ipython",
    "version": 3
   },
   "file_extension": ".py",
   "mimetype": "text/x-python",
   "name": "python",
   "nbconvert_exporter": "python",
   "pygments_lexer": "ipython3",
   "version": "3.9.13"
  },
  "vscode": {
   "interpreter": {
    "hash": "86b03b889bc98c60141984ab1e3b5e06b05f084abd3c59c49972c0ee9480871b"
   }
  }
 },
 "nbformat": 4,
 "nbformat_minor": 5
}
