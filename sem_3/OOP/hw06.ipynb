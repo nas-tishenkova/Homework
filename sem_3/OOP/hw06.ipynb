{
 "cells": [
  {
   "cell_type": "markdown",
   "id": "3aeca3a5-940d-4215-80f8-6388eb48e484",
   "metadata": {},
   "source": [
    "#### Задача 1. \n",
    "\n",
    "С помощью модуля time реализуйте декоратор, который будет высчитывать время выполнения функции."
   ]
  },
  {
   "cell_type": "code",
   "execution_count": 15,
   "id": "4cd4314d",
   "metadata": {},
   "outputs": [],
   "source": [
    "import time\n",
    "\n",
    "def decorator1(func):\n",
    "    def wrapper(*args, **kwargs):\n",
    "        start = time.time()\n",
    "        result = func(*args, **kwargs)\n",
    "        end = time.time()\n",
    "        tme = end - start\n",
    "        print(f'время выполнения: {tme} seconds')\n",
    "        return result\n",
    "    return wrapper"
   ]
  },
  {
   "cell_type": "code",
   "execution_count": 16,
   "id": "e82c1bf7",
   "metadata": {},
   "outputs": [],
   "source": [
    "@decorator1\n",
    "def func(*args):\n",
    "    s = 0\n",
    "    for arg in args:\n",
    "        s += arg\n",
    "    return(s)"
   ]
  },
  {
   "cell_type": "code",
   "execution_count": 18,
   "id": "6d34782d",
   "metadata": {},
   "outputs": [
    {
     "name": "stdout",
     "output_type": "stream",
     "text": [
      "время выполнения: 0.0 seconds\n"
     ]
    },
    {
     "data": {
      "text/plain": [
       "20"
      ]
     },
     "execution_count": 18,
     "metadata": {},
     "output_type": "execute_result"
    }
   ],
   "source": [
    "func(2, 1, 10, 7)"
   ]
  },
  {
   "cell_type": "markdown",
   "id": "bb1c47da-f6d7-4aec-b94b-fed9014def15",
   "metadata": {},
   "source": [
    "#### Задача 2. \n",
    "\n",
    "Перепишите класс Token с использованием декоратора dataclass."
   ]
  },
  {
   "cell_type": "code",
   "execution_count": 22,
   "id": "313a477f-c41d-454b-8367-69377d5ba96c",
   "metadata": {},
   "outputs": [],
   "source": [
    "from dataclasses import dataclass\n",
    "import re\n",
    "\n",
    "@dataclass\n",
    "class Token:\n",
    "    text: str\n",
    "    category: str\n",
    "\n",
    "\n",
    "class Tokenizer:\n",
    "    def __init__(self, text):\n",
    "        self.symbols = re.finditer(r'([A-Za-z]+)|([А-Яа-яЁё]+)|([_.,\\)\\(;:!?])', text)\n",
    "\n",
    "    def tokenize(self):\n",
    "        for i in self.symbols:\n",
    "            if i.group(1):\n",
    "                yield Token(i.group(0), 'latin')\n",
    "            if i.group(2):\n",
    "                yield Token(i.group(0), 'cyrillic')\n",
    "            if i.group(3):\n",
    "                yield Token(i.group(0), 'punct')"
   ]
  },
  {
   "cell_type": "code",
   "execution_count": 23,
   "id": "ebf79338",
   "metadata": {},
   "outputs": [
    {
     "name": "stdout",
     "output_type": "stream",
     "text": [
      "Token(text='mhgj', category='latin')\n",
      "Token(text='hjv', category='latin')\n",
      "Token(text='!', category='punct')\n",
      "Token(text='iHlIgt', category='latin')\n",
      "Token(text='k', category='latin')\n",
      "Token(text='о', category='cyrillic')\n",
      "Token(text='лол', category='cyrillic')\n",
      "Token(text='итьбб', category='cyrillic')\n",
      "Token(text='_', category='punct')\n",
      "Token(text='ЭЭ', category='cyrillic')\n",
      "Token(text='_', category='punct')\n",
      "Token(text='_', category='punct')\n",
      "Token(text='_', category='punct')\n",
      "Token(text='_', category='punct')\n",
      "Token(text='_', category='punct')\n",
      "Token(text='_', category='punct')\n",
      "Token(text='!', category='punct')\n",
      "Token(text=':', category='punct')\n",
      "Token(text=')', category='punct')\n"
     ]
    }
   ],
   "source": [
    "tokenizer = Tokenizer('mhgj hjv! iHlIgt kо лол итьбб _= ЭЭ______!:)')\n",
    "for i in tokenizer.tokenize():\n",
    "    print(i)"
   ]
  },
  {
   "cell_type": "markdown",
   "id": "b62e85a9-0a1d-4b69-a779-f1c7ac67ea9f",
   "metadata": {},
   "source": [
    "#### Задача 3.\n",
    "\n",
    "Расширьте декоратор таким образом, чтобы а) элементов в кортеже могло быть сколько угодно и они суммировались все б) декоратор был рекурсивным и умел отыскивать самые вложенные кортежи/списки и складывать их элементы, например: \n",
    "[[1, 2], [3, 4]], [[3, 4]] = 17\n",
    "При этом вложенные числа должны быть все на одном уровне (то есть, не может оказаться, чтобы в списке был и список, и число)."
   ]
  },
  {
   "cell_type": "code",
   "execution_count": 34,
   "id": "deeed015-687e-4699-a25a-c5855570375e",
   "metadata": {},
   "outputs": [
    {
     "data": {
      "text/plain": [
       "38"
      ]
     },
     "execution_count": 34,
     "metadata": {},
     "output_type": "execute_result"
    }
   ],
   "source": [
    "def decorator(func):\n",
    "    def wrapper(*args, **kwargs):\n",
    "        result = func(*args, **kwargs)\n",
    "        if isinstance(result, (list, tuple)):\n",
    "            return my_recursive_func(result)\n",
    "        else:\n",
    "            return result\n",
    "    return wrapper\n",
    "\n",
    "def my_recursive_func(numbers):\n",
    "    sum = 0\n",
    "    for number in numbers:\n",
    "        if isinstance(number, (list, tuple)):\n",
    "            sum += my_recursive_func(number)\n",
    "        else:\n",
    "            sum += number\n",
    "    return sum\n",
    "\n",
    "@decorator\n",
    "def calc():\n",
    "    return [[1, 2], [3, [4, [3]]], 10], [[3, [[[[[[[[[[[[[[[[[[[[[[[[[[[[[[[[[4]]]]]]]]]]]]]]]]]]]]]]]]]]]]]]]], 8]]]\n",
    "\n",
    "result = calc()\n",
    "result\n"
   ]
  },
  {
   "cell_type": "code",
   "execution_count": 35,
   "id": "72b74947",
   "metadata": {},
   "outputs": [
    {
     "data": {
      "text/plain": [
       "38"
      ]
     },
     "execution_count": 35,
     "metadata": {},
     "output_type": "execute_result"
    }
   ],
   "source": [
    "1 + 2 + 3 + 4 + 3 + 10 + 3 + 4 + 8"
   ]
  }
 ],
 "metadata": {
  "kernelspec": {
   "display_name": "Python 3 (ipykernel)",
   "language": "python",
   "name": "python3"
  },
  "language_info": {
   "codemirror_mode": {
    "name": "ipython",
    "version": 3
   },
   "file_extension": ".py",
   "mimetype": "text/x-python",
   "name": "python",
   "nbconvert_exporter": "python",
   "pygments_lexer": "ipython3",
   "version": "3.9.13"
  }
 },
 "nbformat": 4,
 "nbformat_minor": 5
}
