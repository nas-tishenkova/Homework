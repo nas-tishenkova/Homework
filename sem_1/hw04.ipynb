{
 "cells": [
  {
   "cell_type": "markdown",
   "id": "6bad6b38-eca0-4cfc-ac6a-2723a3cbb50a",
   "metadata": {},
   "source": [
    "#### Задача 1. \n",
    "\n",
    "Ученики одной школы все знают хотя бы по одному языку. Программа получает число школьников, а потом в цикле for собирает сведения о их языках, н-р:\n",
    "\n",
    "    2\n",
    "    English Bulgarian\n",
    "    English Romanian\n",
    "    \n",
    "Нужно узнать, какие языки знает хотя бы один школьник и какие языки знают все школьники."
   ]
  },
  {
   "cell_type": "code",
   "execution_count": 187,
   "id": "660eafc9-7667-441a-954e-a3617941bdfd",
   "metadata": {},
   "outputs": [
    {
     "name": "stdout",
     "output_type": "stream",
     "text": [
      "{'english', 'russian'} {'spanish', 'russian'}\n",
      "{'bulgarian', 'russian'} {'bulgarian', 'russian'}\n",
      "{'df'} set()\n"
     ]
    }
   ],
   "source": [
    "shkolniki = int(input())#3\n",
    "yaziky = set()\n",
    "yazikyvse = set()\n",
    "#russian english #russian spanish #russian bulgarian\n",
    "for i in range(shkolniki):\n",
    "    yaziky = set.union(set(input(f'{i + 1}:').split()))\n",
    "    yazikyvse = set.intersection(set(input(f'{i + 1}:').split()))\n",
    "    print(yaziky, yazikyvse)\n",
    "\n",
    "\n",
    "\n",
    "#print(f'хотя бы один школьник говорит на: {set.union(*yaziky)}')\n",
    "#print(f'все школьники говорят на: {set.intersection(*yaziky)}')\n"
   ]
  },
  {
   "cell_type": "markdown",
   "id": "359818d1-46c4-43c1-b9c6-719cd83c06a7",
   "metadata": {},
   "source": [
    "#### Задача 2. \n",
    "\n",
    "Напишите функцию, которая будет принимать строку, в которой содержится любой текст (положим, русскоязычный), и возвращать список, содержащий только слова (для удаления пунктуации можно воспользоваться punctuation из модуля string, если хочется). Если умеете пользоваться регулярками - можно использовать регулярки. \n",
    "\n",
    "Посчитайте частотный список слов для текста в этой строке. "
   ]
  },
  {
   "cell_type": "code",
   "execution_count": 1,
   "id": "9e6c3e0b",
   "metadata": {},
   "outputs": [],
   "source": [
    "from collections import Counter\n",
    "def lt(luboytxt):#Что такое осень — это небо, Плачущее небо под ногами\n",
    "    l = ''\n",
    "    for i in luboytxt:\n",
    "        if i.isalpha() or i == ' ':#доделать с дефисом\n",
    "            l += i.lower()\n",
    "    l1 = l.split() \n",
    "    print(Counter(l1))"
   ]
  },
  {
   "cell_type": "code",
   "execution_count": 2,
   "id": "15a4e5ed",
   "metadata": {},
   "outputs": [
    {
     "name": "stdout",
     "output_type": "stream",
     "text": [
      "Counter({'небо': 2, 'что': 1, 'такое': 1, 'осень': 1, 'это': 1, 'плачущее': 1, 'под': 1, 'ногами': 1})\n"
     ]
    }
   ],
   "source": [
    "lt(list(input()))"
   ]
  },
  {
   "cell_type": "markdown",
   "id": "552bc43b-804b-41d3-a482-35ad54f36e06",
   "metadata": {},
   "source": [
    "#### Задача 3. \n",
    "\n",
    "Положим, у нас есть список со вложенными списками (глубина вложенности может быть какая угодно: это может быть список списков списков...). Напишите функцию, которая будет рекурсивно обходить все элементы в этих списках и посчитает, сколько всего встретилось уникальных элементов. Считаем, что эти элементы - целые числа (вам понадобится проверять type(x) == int). "
   ]
  },
  {
   "cell_type": "code",
   "execution_count": 118,
   "id": "b926dcaf",
   "metadata": {},
   "outputs": [],
   "source": [
    "a = [0, [90, 10, [0]], [[87, 90], [87], [76]]]\n",
    "b = set()\n",
    "def obhodim(a, b):\n",
    "    for i in a:\n",
    "        if type(i) is int:\n",
    "            b.add(i)\n",
    "            a.remove(i)\n",
    "        else:\n",
    "            try:\n",
    "                a = [x for i in a for x in i]\n",
    "            except TypeError:\n",
    "                a = a\n",
    "            obhodim(a, b)\n",
    "    return f'количество уникальных элементов: {len(b)}, а элементы такие {b}'"
   ]
  },
  {
   "cell_type": "code",
   "execution_count": 119,
   "id": "0e4c0725",
   "metadata": {},
   "outputs": [
    {
     "name": "stdout",
     "output_type": "stream",
     "text": [
      "количество уникальных элементов: 5, а элементы такие {0, 10, 76, 87, 90}\n"
     ]
    }
   ],
   "source": [
    "print(obhodim(a, b))"
   ]
  },
  {
   "cell_type": "markdown",
   "id": "be46c202-8887-4cdb-a6c2-acd40c86403f",
   "metadata": {},
   "source": [
    "#### Задача 4. \n",
    "\n",
    "Напишите функцию для сложения матриц."
   ]
  },
  {
   "cell_type": "code",
   "execution_count": 99,
   "id": "3481a760",
   "metadata": {},
   "outputs": [],
   "source": [
    "a = [[x for x in range(1, 5)] for y in range(1, 5)]\n",
    "b = [[x for x in range(1, 5)] for y in range(1, 5)]"
   ]
  },
  {
   "cell_type": "code",
   "execution_count": 100,
   "id": "eddc2a4d",
   "metadata": {},
   "outputs": [],
   "source": [
    "def slozhenie_m1(a, b):\n",
    "    c = [[a[j][i]+b[j][i] for i in range(len(a))] for j in range(len(a[0]))]\n",
    "    print(*c, sep='\\n')"
   ]
  },
  {
   "cell_type": "code",
   "execution_count": 101,
   "id": "17d081b4",
   "metadata": {},
   "outputs": [
    {
     "name": "stdout",
     "output_type": "stream",
     "text": [
      "[2, 4, 6, 8]\n",
      "[2, 4, 6, 8]\n",
      "[2, 4, 6, 8]\n",
      "[2, 4, 6, 8]\n"
     ]
    }
   ],
   "source": [
    "\n",
    "slozhenie_m1(a, b)"
   ]
  },
  {
   "cell_type": "markdown",
   "id": "10fcf684-2ee1-4342-9c0a-1c959a473320",
   "metadata": {},
   "source": [
    "#### Задача 5. \n",
    "\n",
    "Напишите функцию для умножения матриц."
   ]
  },
  {
   "cell_type": "code",
   "execution_count": 102,
   "id": "8b95b0a2-93c8-4a76-9795-9702a584aa94",
   "metadata": {},
   "outputs": [],
   "source": [
    "def umnozhenie_m1(a, b):\n",
    "    c = [[a[j][i] * b[j][i] for i in range(len(a))] for j in range(len(a[0]))]\n",
    "    print(*c, sep='\\n')"
   ]
  },
  {
   "cell_type": "code",
   "execution_count": 103,
   "id": "71099f19",
   "metadata": {},
   "outputs": [
    {
     "name": "stdout",
     "output_type": "stream",
     "text": [
      "[1, 4, 9, 16]\n",
      "[1, 4, 9, 16]\n",
      "[1, 4, 9, 16]\n",
      "[1, 4, 9, 16]\n"
     ]
    }
   ],
   "source": [
    "umnozhenie_m1(a, b)"
   ]
  },
  {
   "cell_type": "markdown",
   "id": "1f145040-6a4e-44e5-a0f0-99d76a8f5413",
   "metadata": {},
   "source": [
    "#### Задача 6. \n",
    "\n",
    "Напишите функцию, которая генерирует [матрицу сдвига](https://ru.wikipedia.org/wiki/%D0%9C%D0%B0%D1%82%D1%80%D0%B8%D1%86%D0%B0_%D1%81%D0%B4%D0%B2%D0%B8%D0%B3%D0%B0). У функции должно быть два параметра: n (размер матрицы) и bias (на сколько столбцов сдвигать)."
   ]
  },
  {
   "cell_type": "code",
   "execution_count": 176,
   "id": "4ba92bad-1317-443f-b737-41ee396c4c7e",
   "metadata": {},
   "outputs": [],
   "source": [
    "n = int(input('Введите размер матрицы: '))\n",
    "bias = int(input('на сколько столбцов вправо сдвигать'))#сделать проверку\n",
    "def matrica_sdviga(n, bias):\n",
    "    for i in range(n):\n",
    "        for j in range(n):\n",
    "            if i + j == n - 1 + bias:\n",
    "                print(1, end=' ')\n",
    "            else:\n",
    "                print(0, end=' ')\n",
    "        print()"
   ]
  },
  {
   "cell_type": "code",
   "execution_count": 181,
   "id": "35986e60",
   "metadata": {},
   "outputs": [
    {
     "name": "stdout",
     "output_type": "stream",
     "text": [
      "0 0 0 0 \n",
      "0 0 0 0 \n",
      "0 0 0 1 \n",
      "0 0 1 0 \n"
     ]
    }
   ],
   "source": [
    "n = int(input('Введите размер матрицы: '))\n",
    "bias = int(input('на сколько столбцов вправо сдвигать(чтобы сдвинуть влево, поставьте знак минус)'))\n",
    "matrica_sdviga(n, bias)"
   ]
  },
  {
   "cell_type": "markdown",
   "id": "bbe7efcb-ae28-40ad-935e-b7f231207779",
   "metadata": {},
   "source": [
    "#### Задача 7. \n",
    "\n",
    "Напишите функцию transpose(m), которая будет транспонировать матрицу."
   ]
  },
  {
   "cell_type": "code",
   "execution_count": 178,
   "id": "445846ac-fe77-40f3-92cc-d3e5f719a47e",
   "metadata": {},
   "outputs": [],
   "source": [
    "m = [[x for x in range(1, 10)] for y in range(1, 10)]\n",
    "def transpose(m):\n",
    "    c = [[m[i][j] for i in range(len(m))] for j in range(len(m[0]))]\n",
    "    print(*c, sep='\\n')"
   ]
  },
  {
   "cell_type": "code",
   "execution_count": 179,
   "id": "93c09a32",
   "metadata": {},
   "outputs": [
    {
     "name": "stdout",
     "output_type": "stream",
     "text": [
      "[1, 1, 1, 1, 1, 1, 1, 1, 1]\n",
      "[2, 2, 2, 2, 2, 2, 2, 2, 2]\n",
      "[3, 3, 3, 3, 3, 3, 3, 3, 3]\n",
      "[4, 4, 4, 4, 4, 4, 4, 4, 4]\n",
      "[5, 5, 5, 5, 5, 5, 5, 5, 5]\n",
      "[6, 6, 6, 6, 6, 6, 6, 6, 6]\n",
      "[7, 7, 7, 7, 7, 7, 7, 7, 7]\n",
      "[8, 8, 8, 8, 8, 8, 8, 8, 8]\n",
      "[9, 9, 9, 9, 9, 9, 9, 9, 9]\n"
     ]
    }
   ],
   "source": [
    "transpose(m)"
   ]
  },
  {
   "cell_type": "markdown",
   "id": "5bc74489-65ad-4854-a223-d22b2fd6e64d",
   "metadata": {},
   "source": [
    "#### Задача 8 (\\*). \n",
    "\n",
    "Жизнь. Напишите игру \"Жизнь\". Что это такое - читайте в википедии и здесь: http://www.michurin.net/online-tools/life-game.html \n",
    "\n",
    "Вообще говоря, это не игра в привычном понимании этого слова, а процесс. В простейшем виде достаточно раз в 0.1 секунды выводить на экран обновлённое поле (обновлять консоль можно с помощью команды os.clear('cls'), модуль os. Для macOS может немного отличаться, погуглите). Для рамочек можно использовать специальные символы для рисования рамочек (найдите в таблице unicode). Пробел - пустая клетка, живая клетка может быть обозначена, например, символом '+'. Начальное поле генерируется случайным образом, вероятность появления жизни в клетке при начальной генерации - должна быть настраиваемым параметром. Размеры поля вводит пользователь при запуске программы. Также должна быть возможность в качестве начальной популяции использовать [R-pentomino](http://www.conwaylife.com/wiki/R-pentomino)."
   ]
  },
  {
   "cell_type": "code",
   "execution_count": 175,
   "id": "fbd943ec-39aa-4129-9a60-c5b13f43234c",
   "metadata": {},
   "outputs": [],
   "source": [
    "d = (int(input('длина поля')))\n",
    "sh = (int(input('ширина поля')))\n",
    "\n"
   ]
  },
  {
   "cell_type": "markdown",
   "id": "a52faff1-12e5-4ae9-97d2-698f9862e58a",
   "metadata": {},
   "source": [
    "#### Задача 9. \n",
    "\n",
    "Рекурсивная генерация последовательностей На вход программе задается два числа N и K. Напечатайте все последовательности длины N, на каждом месте в последовательности может стоять любое число от 1 до K, но нигде подряд не стоит двух одинаковых чисел. Программа должна напечатать все такие последовательности в лексикографическом порядке. Каждая последовательность должна быть напечатана на отдельной строке. Числа в последовательности должны разделяться пробелами.\n",
    "\n",
    "Пример входных данных:\n",
    "\n",
    "    4 3\n",
    "\n",
    "Пример выходных данных:\n",
    "\n",
    "    1 2 1 2\n",
    "    1 2 1 3\n",
    "    1 2 3 1\n",
    "    1 2 3 2\n",
    "    1 3 1 2\n",
    "    1 3 1 3\n",
    "    1 3 2 1\n",
    "    1 3 2 3\n",
    "    2 1 2 1\n",
    "    2 1 2 3\n",
    "    2 1 3 1\n",
    "    2 1 3 2\n",
    "    2 3 1 2\n",
    "    2 3 1 3\n",
    "    2 3 2 1\n",
    "    2 3 2 3\n",
    "    3 1 2 1\n",
    "    3 1 2 3\n",
    "    3 1 3 1\n",
    "    3 1 3 2\n",
    "    3 2 1 2\n",
    "    3 2 1 3\n",
    "    3 2 3 1\n",
    "    3 2 3 2"
   ]
  },
  {
   "cell_type": "code",
   "execution_count": 117,
   "id": "6bf0d84f-a7e1-4749-af82-2e7cc0a93a51",
   "metadata": {},
   "outputs": [
    {
     "name": "stdout",
     "output_type": "stream",
     "text": [
      "[1, 2, 3]\n",
      "[1, 2, 3]\n",
      "[1, 2, 3]\n",
      "[1, 2, 3]\n"
     ]
    }
   ],
   "source": [
    "n = int(input())#4длина\n",
    "k = int(input())#3от 1 до к\n",
    "\n",
    "a = [[x for x in range(1, k + 1)] for y in range(n)]\n",
    "print(*a, sep='\\n')"
   ]
  }
 ],
 "metadata": {
  "kernelspec": {
   "display_name": "Python 3.9.13 64-bit",
   "language": "python",
   "name": "python3"
  },
  "language_info": {
   "codemirror_mode": {
    "name": "ipython",
    "version": 3
   },
   "file_extension": ".py",
   "mimetype": "text/x-python",
   "name": "python",
   "nbconvert_exporter": "python",
   "pygments_lexer": "ipython3",
   "version": "3.9.13"
  },
  "vscode": {
   "interpreter": {
    "hash": "86b03b889bc98c60141984ab1e3b5e06b05f084abd3c59c49972c0ee9480871b"
   }
  }
 },
 "nbformat": 4,
 "nbformat_minor": 5
}
